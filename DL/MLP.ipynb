{
 "cells": [
  {
   "cell_type": "code",
   "execution_count": 4,
   "metadata": {},
   "outputs": [],
   "source": [
    "import pandas as pd\n",
    "import numpy as np\n",
    "from sklearn.model_selection import train_test_split\n",
    "from sklearn.metrics import f1_score, precision_score, recall_score, accuracy_score\n",
    "import torch\n",
    "import torch.nn as nn\n",
    "import torch.optim as optim\n",
    "import random\n",
    "import os\n",
    "# Set seed\n",
    "torch.manual_seed(123)\n",
    "np.random.seed(123)\n",
    "random.seed(123)"
   ]
  },
  {
   "cell_type": "code",
   "execution_count": 5,
   "metadata": {},
   "outputs": [],
   "source": [
    "# Load the dataset\n",
    "data = pd.read_csv('diabetes_binary_5050split_health_indicators_BRFSS2015.csv')\n",
    "\n",
    "# Split data into features and labels\n",
    "X = data.iloc[:, 1:].values\n",
    "y = data.iloc[:, 0].values\n",
    "\n",
    "# Train-Test Split\n",
    "X_train, X_test, y_train, y_test = train_test_split(X, y, test_size=0.2, random_state=42)\n",
    "\n",
    "# Convert data to tensors\n",
    "X_train = torch.FloatTensor(X_train)\n",
    "X_test = torch.FloatTensor(X_test)\n",
    "y_train = torch.LongTensor(y_train)\n",
    "y_test = torch.LongTensor(y_test)"
   ]
  },
  {
   "cell_type": "code",
   "execution_count": 6,
   "metadata": {},
   "outputs": [],
   "source": [
    "# Define the MLP model\n",
    "class MLP(nn.Module):\n",
    "    def __init__(self, input_size, hidden_size, num_classes):\n",
    "        super(MLP, self).__init__()\n",
    "        self.layer1 = nn.Linear(input_size, hidden_size)\n",
    "        self.layer2 = nn.Linear(hidden_size, hidden_size)\n",
    "        self.layer3 = nn.Linear(hidden_size, num_classes)\n",
    "\n",
    "    def forward(self, x):\n",
    "        x = torch.relu(self.layer1(x))\n",
    "        x = torch.relu(self.layer2(x))\n",
    "        x = self.layer3(x)\n",
    "        return x"
   ]
  },
  {
   "cell_type": "code",
   "execution_count": 7,
   "metadata": {},
   "outputs": [],
   "source": [
    "# Initialize the MLP model\n",
    "input_size = X.shape[1]\n",
    "hidden_size = 64\n",
    "num_classes = 2\n",
    "model = MLP(input_size, hidden_size, num_classes)\n",
    "\n",
    "# Loss and optimizer\n",
    "criterion = nn.CrossEntropyLoss()\n",
    "optimizer = optim.Adam(model.parameters(), lr=0.001)"
   ]
  },
  {
   "cell_type": "code",
   "execution_count": 8,
   "metadata": {},
   "outputs": [
    {
     "name": "stdout",
     "output_type": "stream",
     "text": [
      "Epoch [10/1000], Loss: 0.6611\n",
      "Epoch [20/1000], Loss: 0.6241\n",
      "Epoch [30/1000], Loss: 0.5975\n",
      "Epoch [40/1000], Loss: 0.5802\n",
      "Epoch [50/1000], Loss: 0.5666\n",
      "Epoch [60/1000], Loss: 0.5557\n",
      "Epoch [70/1000], Loss: 0.5463\n",
      "Epoch [80/1000], Loss: 0.5385\n",
      "Epoch [90/1000], Loss: 0.5319\n",
      "Epoch [100/1000], Loss: 0.5264\n",
      "Epoch [110/1000], Loss: 0.5224\n",
      "Epoch [120/1000], Loss: 0.5194\n",
      "Epoch [130/1000], Loss: 0.5173\n",
      "Epoch [140/1000], Loss: 0.5158\n",
      "Epoch [150/1000], Loss: 0.5146\n",
      "Epoch [160/1000], Loss: 0.5136\n",
      "Epoch [170/1000], Loss: 0.5127\n",
      "Epoch [180/1000], Loss: 0.5119\n",
      "Epoch [190/1000], Loss: 0.5112\n",
      "Epoch [200/1000], Loss: 0.5104\n",
      "Epoch [210/1000], Loss: 0.5096\n",
      "Epoch [220/1000], Loss: 0.5089\n",
      "Epoch [230/1000], Loss: 0.5084\n",
      "Epoch [240/1000], Loss: 0.5076\n",
      "Epoch [250/1000], Loss: 0.5069\n",
      "Epoch [260/1000], Loss: 0.5062\n",
      "Epoch [270/1000], Loss: 0.5069\n",
      "Epoch [280/1000], Loss: 0.5052\n",
      "Epoch [290/1000], Loss: 0.5048\n",
      "Epoch [300/1000], Loss: 0.5043\n",
      "Epoch [310/1000], Loss: 0.5038\n",
      "Epoch [320/1000], Loss: 0.5033\n",
      "Epoch [330/1000], Loss: 0.5044\n",
      "Epoch [340/1000], Loss: 0.5031\n",
      "Epoch [350/1000], Loss: 0.5025\n",
      "Epoch [360/1000], Loss: 0.5020\n",
      "Epoch [370/1000], Loss: 0.5017\n",
      "Epoch [380/1000], Loss: 0.5014\n",
      "Epoch [390/1000], Loss: 0.5016\n",
      "Epoch [400/1000], Loss: 0.5012\n",
      "Epoch [410/1000], Loss: 0.5009\n",
      "Epoch [420/1000], Loss: 0.5006\n",
      "Epoch [430/1000], Loss: 0.5001\n",
      "Epoch [440/1000], Loss: 0.5008\n",
      "Epoch [450/1000], Loss: 0.5001\n",
      "Epoch [460/1000], Loss: 0.4995\n",
      "Epoch [470/1000], Loss: 0.4993\n",
      "Epoch [480/1000], Loss: 0.4993\n",
      "Epoch [490/1000], Loss: 0.4990\n",
      "Epoch [500/1000], Loss: 0.4988\n",
      "Epoch [510/1000], Loss: 0.4987\n",
      "Epoch [520/1000], Loss: 0.4984\n",
      "Epoch [530/1000], Loss: 0.4982\n",
      "Epoch [540/1000], Loss: 0.4980\n",
      "Epoch [550/1000], Loss: 0.4979\n",
      "Epoch [560/1000], Loss: 0.4977\n",
      "Epoch [570/1000], Loss: 0.4975\n",
      "Epoch [580/1000], Loss: 0.4974\n",
      "Epoch [590/1000], Loss: 0.4972\n",
      "Epoch [600/1000], Loss: 0.4975\n",
      "Epoch [610/1000], Loss: 0.4969\n",
      "Epoch [620/1000], Loss: 0.4967\n",
      "Epoch [630/1000], Loss: 0.4966\n",
      "Epoch [640/1000], Loss: 0.4966\n",
      "Epoch [650/1000], Loss: 0.4965\n",
      "Epoch [660/1000], Loss: 0.4962\n",
      "Epoch [670/1000], Loss: 0.4961\n",
      "Epoch [680/1000], Loss: 0.4962\n",
      "Epoch [690/1000], Loss: 0.4959\n",
      "Epoch [700/1000], Loss: 0.4961\n",
      "Epoch [710/1000], Loss: 0.4959\n",
      "Epoch [720/1000], Loss: 0.4956\n",
      "Epoch [730/1000], Loss: 0.4954\n",
      "Epoch [740/1000], Loss: 0.4958\n",
      "Epoch [750/1000], Loss: 0.4952\n",
      "Epoch [760/1000], Loss: 0.4950\n",
      "Epoch [770/1000], Loss: 0.4951\n",
      "Epoch [780/1000], Loss: 0.4950\n",
      "Epoch [790/1000], Loss: 0.4953\n",
      "Epoch [800/1000], Loss: 0.4948\n",
      "Epoch [810/1000], Loss: 0.4948\n",
      "Epoch [820/1000], Loss: 0.4945\n",
      "Epoch [830/1000], Loss: 0.4949\n",
      "Epoch [840/1000], Loss: 0.4946\n",
      "Epoch [850/1000], Loss: 0.4942\n",
      "Epoch [860/1000], Loss: 0.4946\n",
      "Epoch [870/1000], Loss: 0.4941\n",
      "Epoch [880/1000], Loss: 0.4941\n",
      "Epoch [890/1000], Loss: 0.4943\n",
      "Epoch [900/1000], Loss: 0.4939\n",
      "Epoch [910/1000], Loss: 0.4938\n",
      "Epoch [920/1000], Loss: 0.4939\n",
      "Epoch [930/1000], Loss: 0.4938\n",
      "Epoch [940/1000], Loss: 0.4936\n",
      "Epoch [950/1000], Loss: 0.4940\n",
      "Epoch [960/1000], Loss: 0.4935\n",
      "Epoch [970/1000], Loss: 0.4934\n",
      "Epoch [980/1000], Loss: 0.4934\n",
      "Epoch [990/1000], Loss: 0.4935\n",
      "Epoch [1000/1000], Loss: 0.4934\n"
     ]
    }
   ],
   "source": [
    "# Train the model\n",
    "num_epochs = 1000\n",
    "loss_list = []\n",
    "for epoch in range(num_epochs):\n",
    "    # Forward pass\n",
    "    outputs = model(X_train)\n",
    "    loss = criterion(outputs, y_train)\n",
    "\n",
    "    # Backward and optimize\n",
    "    optimizer.zero_grad()\n",
    "    loss.backward()\n",
    "    optimizer.step()\n",
    "    loss_list.append(loss.item())\n",
    "    if (epoch+1) % 10 == 0:\n",
    "        print(f'Epoch [{epoch+1}/{num_epochs}], Loss: {loss.item():.4f}')"
   ]
  },
  {
   "cell_type": "code",
   "execution_count": 9,
   "metadata": {},
   "outputs": [
    {
     "name": "stdout",
     "output_type": "stream",
     "text": [
      "F1 score: 0.7579\n",
      "Precision: 0.7319\n",
      "Recall: 0.7858\n",
      "Accuracy: 0.7497\n"
     ]
    }
   ],
   "source": [
    "# Test the model\n",
    "with torch.no_grad():\n",
    "    y_pred = model(X_test)\n",
    "    _, predicted = torch.max(y_pred, 1)\n",
    "\n",
    "# Calculate evaluation metrics\n",
    "f1 = f1_score(y_test, predicted)\n",
    "precision = precision_score(y_test, predicted)\n",
    "recall = recall_score(y_test, predicted)\n",
    "accuracy = accuracy_score(y_test, predicted)\n",
    "\n",
    "print(f'F1 score: {f1:.4f}')\n",
    "print(f'Precision: {precision:.4f}')\n",
    "print(f'Recall: {recall:.4f}')\n",
    "print(f'Accuracy: {accuracy:.4f}')"
   ]
  },
  {
   "cell_type": "code",
   "execution_count": 10,
   "metadata": {},
   "outputs": [
    {
     "data": {
      "image/png": "[encoded data removed]",
      "text/plain": [
       "<Figure size 640x480 with 1 Axes>"
      ]
     },
     "metadata": {},
     "output_type": "display_data"
    }
   ],
   "source": [
    "import matplotlib.pyplot as plt\n",
    "\n",
    "# Plot the loss curve\n",
    "plt.plot(loss_list, linewidth=2, color='red')\n",
    "plt.xlabel('Epoch')\n",
    "plt.ylabel('Loss')\n",
    "plt.title('Deep Learning of MLP')\n",
    "plt.show()"
   ]
  }
 ],
 "metadata": {
  "kernelspec": {
   "display_name": "base",
   "language": "python",
   "name": "python3"
  },
  "language_info": {
   "codemirror_mode": {
    "name": "ipython",
    "version": 3
   },
   "file_extension": ".py",
   "mimetype": "text/x-python",
   "name": "python",
   "nbconvert_exporter": "python",
   "pygments_lexer": "ipython3",
   "version": "3.10.9"
  },
  "orig_nbformat": 4
 },
 "nbformat": 4,
 "nbformat_minor": 2
}
